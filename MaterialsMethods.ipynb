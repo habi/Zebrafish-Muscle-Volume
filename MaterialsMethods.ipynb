{
 "cells": [
  {
   "cell_type": "markdown",
   "metadata": {},
   "source": [
    "This notebook generates the paragraph about the microCT-scanning from logfiles of the scans."
   ]
  },
  {
   "cell_type": "code",
   "execution_count": 1,
   "metadata": {},
   "outputs": [],
   "source": [
    "import platform\n",
    "import os\n",
    "import pandas\n",
    "import glob\n",
    "import numpy"
   ]
  },
  {
   "cell_type": "markdown",
   "metadata": {},
   "source": [
    "We select a folder and go through *each* subfolder there..."
   ]
  },
  {
   "cell_type": "code",
   "execution_count": 2,
   "metadata": {},
   "outputs": [
    {
     "name": "stdout",
     "output_type": "stream",
     "text": [
      "We are loading all the data from /home/habi/research-storage-uct/Archiv_Tape/*Carolina*Muscles*\n"
     ]
    }
   ],
   "source": [
    "# Different locations if running either on Linux or Windows\n",
    "if 'Linux' in platform.system():\n",
    "    BasePath = os.path.join(os.sep, 'home', 'habi', 'research-storage-uct', 'Archiv_Tape')\n",
    "else:\n",
    "    BasePath = os.path.join('R:\\\\', 'Archiv_Tape')\n",
    "Root = os.path.join(BasePath, '*Carolina*Muscles*')\n",
    "print('We are loading all the data from %s' % Root)"
   ]
  },
  {
   "cell_type": "code",
   "execution_count": 3,
   "metadata": {},
   "outputs": [],
   "source": [
    "# Make us a dataframe for saving all that we need\n",
    "Data = pandas.DataFrame()"
   ]
  },
  {
   "cell_type": "code",
   "execution_count": 4,
   "metadata": {},
   "outputs": [],
   "source": [
    "# Look for *all* log files in the selected folder\n",
    "Data['LogFile'] = sorted(glob.glob(os.path.join(Root, '**', '*.log'), recursive=True))"
   ]
  },
  {
   "cell_type": "code",
   "execution_count": 5,
   "metadata": {},
   "outputs": [],
   "source": [
    "# Use only the 'proj' log files\n",
    "for c, row in Data.iterrows():\n",
    "    if 'rec' not in row.LogFile:\n",
    "        Data.drop([c], inplace=True)\n",
    "    if 'rectmp' in row.LogFile:\n",
    "        Data.drop([c], inplace=True)\n",
    "    if 'ctan.log' in row.LogFile:\n",
    "        # Remove log file from CTAn\n",
    "        Data.drop([c], inplace=True)        \n",
    "# Reset dataframe to something that we would get if we only would have loaded the 'rec' files\n",
    "Data = Data.reset_index(drop=True)"
   ]
  },
  {
   "cell_type": "code",
   "execution_count": 6,
   "metadata": {},
   "outputs": [
    {
     "name": "stdout",
     "output_type": "stream",
     "text": [
      "/home/habi/research-storage-uct/Archiv_Tape/Zebrafish_Carolina_Muscles/ko01/rec/ko01_rec.log\n",
      "/home/habi/research-storage-uct/Archiv_Tape/Zebrafish_Carolina_Muscles/ko02/rec/ko02_rec.log\n",
      "/home/habi/research-storage-uct/Archiv_Tape/Zebrafish_Carolina_Muscles/ko03/rec/ko03_rec.log\n",
      "/home/habi/research-storage-uct/Archiv_Tape/Zebrafish_Carolina_Muscles/ko04/rec/ko04_rec.log\n",
      "/home/habi/research-storage-uct/Archiv_Tape/Zebrafish_Carolina_Muscles/ko05/rec/ko05_rec.log\n",
      "/home/habi/research-storage-uct/Archiv_Tape/Zebrafish_Carolina_Muscles/wt01/rec/wt01_rec.log\n",
      "/home/habi/research-storage-uct/Archiv_Tape/Zebrafish_Carolina_Muscles/wt02/rec/wt02_rec.log\n",
      "/home/habi/research-storage-uct/Archiv_Tape/Zebrafish_Carolina_Muscles/wt03/rec/wt03_rec.log\n",
      "/home/habi/research-storage-uct/Archiv_Tape/Zebrafish_Carolina_Muscles/wt04/rec/wt04_rec.log\n",
      "/home/habi/research-storage-uct/Archiv_Tape/Zebrafish_Carolina_Muscles/wt05/rec/wt05_rec.log\n"
     ]
    }
   ],
   "source": [
    "# Show what we have\n",
    "for l in Data.LogFile:\n",
    "    print(l)"
   ]
  },
  {
   "cell_type": "code",
   "execution_count": 7,
   "metadata": {},
   "outputs": [],
   "source": [
    "# Get 'scan' folder\n",
    "Data['Scan'] = [os.path.basename(os.path.dirname(os.path.dirname(l))) for l in Data['LogFile']]"
   ]
  },
  {
   "cell_type": "markdown",
   "metadata": {},
   "source": [
    "Define us a bunch of functions to `grep` the necessary things from the log files"
   ]
  },
  {
   "cell_type": "code",
   "execution_count": 8,
   "metadata": {},
   "outputs": [],
   "source": [
    "def fulllog(logfile):\n",
    "    with open(logfile, 'r') as f:\n",
    "        for line in f:\n",
    "            print(line.strip())\n",
    "    return()"
   ]
  },
  {
   "cell_type": "code",
   "execution_count": 9,
   "metadata": {},
   "outputs": [],
   "source": [
    "# Temporarily select one random log file for testing the functions\n",
    "log = Data['LogFile'][Data.sample().index[0]]"
   ]
  },
  {
   "cell_type": "code",
   "execution_count": 10,
   "metadata": {},
   "outputs": [],
   "source": [
    "# Print us the full log file\n",
    "# fulllog(log)"
   ]
  },
  {
   "cell_type": "code",
   "execution_count": 11,
   "metadata": {},
   "outputs": [],
   "source": [
    "import re\n",
    "def scanner(logfile, verbose=False):\n",
    "    hardwareversion = []\n",
    "    with open(logfile, 'r') as f:\n",
    "        for line in f:\n",
    "            if 'Scanner' in line:\n",
    "                if verbose:\n",
    "                    print(line)\n",
    "                # Sometimes it's SkyScan, sometimes Skyscan, so we have to regex it :)\n",
    "                machine = re.split('Sky.can', line)[1].strip()\n",
    "            if 'Hardware' in line:\n",
    "                if verbose:\n",
    "                    print(line)\n",
    "                hardwareversion = line.split('=')[1].strip()\n",
    "    if hardwareversion:\n",
    "        return('SkyScan %s (Version %s)' % (machine, hardwareversion))\n",
    "    else:\n",
    "        return('SkyScan ' + machine)    "
   ]
  },
  {
   "cell_type": "code",
   "execution_count": 12,
   "metadata": {},
   "outputs": [
    {
     "name": "stdout",
     "output_type": "stream",
     "text": [
      "Scanner=SkyScan1272\n",
      "\n"
     ]
    },
    {
     "data": {
      "text/plain": [
       "'SkyScan 1272'"
      ]
     },
     "execution_count": 12,
     "metadata": {},
     "output_type": "execute_result"
    }
   ],
   "source": [
    "scanner(log, verbose=True)"
   ]
  },
  {
   "cell_type": "code",
   "execution_count": 13,
   "metadata": {},
   "outputs": [],
   "source": [
    "def controlsoftware(logfile, verbose=False):\n",
    "    with open(logfile, 'r') as f:\n",
    "        for line in f:\n",
    "            if 'Software Ver' in line:\n",
    "                if verbose:\n",
    "                    print(line)\n",
    "                version = line.split('=')[1].strip()\n",
    "    return(version)"
   ]
  },
  {
   "cell_type": "code",
   "execution_count": 14,
   "metadata": {},
   "outputs": [
    {
     "name": "stdout",
     "output_type": "stream",
     "text": [
      "Software Version=1.1.19\n",
      "\n"
     ]
    },
    {
     "data": {
      "text/plain": [
       "'1.1.19'"
      ]
     },
     "execution_count": 14,
     "metadata": {},
     "output_type": "execute_result"
    }
   ],
   "source": [
    "controlsoftware(log, verbose=True)"
   ]
  },
  {
   "cell_type": "code",
   "execution_count": 15,
   "metadata": {},
   "outputs": [],
   "source": [
    "def source(logfile, verbose=False):\n",
    "    with open(logfile, 'r') as f:\n",
    "        for line in f:\n",
    "            if 'Source Ty' in line:\n",
    "                if verbose:\n",
    "                    print(line)\n",
    "                source = line.split('=')[1].strip()\n",
    "                if 'HAMAMA' in source:\n",
    "                    # We split the string at '_L' to separate HAMAMATSU_L118...\n",
    "                    # Afterwards we properly capitalize HAMAMATSU and\n",
    "                    # join the strings back with ' L' to get the beginning of the reference back\n",
    "                    source = ' L'.join([s.capitalize() for s in source.split('_L')])\n",
    "    return(source)"
   ]
  },
  {
   "cell_type": "code",
   "execution_count": 16,
   "metadata": {},
   "outputs": [
    {
     "name": "stdout",
     "output_type": "stream",
     "text": [
      "Source Type=HAMAMATSU_L11871_20\n",
      "\n"
     ]
    },
    {
     "data": {
      "text/plain": [
       "'Hamamatsu L11871_20'"
      ]
     },
     "execution_count": 16,
     "metadata": {},
     "output_type": "execute_result"
    }
   ],
   "source": [
    "source(log, verbose=True)"
   ]
  },
  {
   "cell_type": "code",
   "execution_count": 17,
   "metadata": {},
   "outputs": [],
   "source": [
    "def camera(logfile, verbose=False):\n",
    "    with open(logfile, 'r') as f:\n",
    "        for line in f:\n",
    "            if 'Camera T' in line or 'Camera=' in line:\n",
    "                if verbose:\n",
    "                    print(line)\n",
    "                cam = line.split('=')[1].strip().strip(' camera')\n",
    "    return(cam)"
   ]
  },
  {
   "cell_type": "code",
   "execution_count": 18,
   "metadata": {},
   "outputs": [
    {
     "name": "stdout",
     "output_type": "stream",
     "text": [
      "Camera Type=XIMEA xiRAY16\n",
      "\n"
     ]
    },
    {
     "data": {
      "text/plain": [
       "'XIMEA xiRAY16'"
      ]
     },
     "execution_count": 18,
     "metadata": {},
     "output_type": "execute_result"
    }
   ],
   "source": [
    "camera(log, verbose=True)"
   ]
  },
  {
   "cell_type": "code",
   "execution_count": 19,
   "metadata": {},
   "outputs": [],
   "source": [
    "def voltage(logfile, verbose=False):\n",
    "    with open(logfile, 'r') as f:\n",
    "        for line in f:\n",
    "            if 'Voltage' in line:\n",
    "                if verbose:\n",
    "                    print(line)\n",
    "                V = float(line.split('=')[1])\n",
    "    return(V)"
   ]
  },
  {
   "cell_type": "code",
   "execution_count": 20,
   "metadata": {},
   "outputs": [
    {
     "name": "stdout",
     "output_type": "stream",
     "text": [
      "Source Voltage (kV)=  70\n",
      "\n"
     ]
    },
    {
     "data": {
      "text/plain": [
       "70.0"
      ]
     },
     "execution_count": 20,
     "metadata": {},
     "output_type": "execute_result"
    }
   ],
   "source": [
    "voltage(log, verbose=True)"
   ]
  },
  {
   "cell_type": "code",
   "execution_count": 21,
   "metadata": {},
   "outputs": [],
   "source": [
    "def current(logfile, verbose=False):\n",
    "    with open(logfile, 'r') as f:\n",
    "        for line in f:\n",
    "            if 'Source Current' in line:\n",
    "                if verbose:\n",
    "                    print(line)\n",
    "                A = float(line.split('=')[1])\n",
    "    return(A)"
   ]
  },
  {
   "cell_type": "code",
   "execution_count": 22,
   "metadata": {},
   "outputs": [
    {
     "name": "stdout",
     "output_type": "stream",
     "text": [
      "Source Current (uA)= 142\n",
      "\n"
     ]
    },
    {
     "data": {
      "text/plain": [
       "142.0"
      ]
     },
     "execution_count": 22,
     "metadata": {},
     "output_type": "execute_result"
    }
   ],
   "source": [
    "current(log, verbose=True)"
   ]
  },
  {
   "cell_type": "code",
   "execution_count": 23,
   "metadata": {},
   "outputs": [],
   "source": [
    "def whichfilter(logfile, verbose=False):\n",
    "    with open(logfile, 'r') as f:\n",
    "        for line in f:\n",
    "            if 'Filter=' in line:\n",
    "                if verbose:\n",
    "                    print(line)\n",
    "                fltr = line.split('=')[1].strip().replace('  ', ' ')\n",
    "                if fltr=='No Filter':\n",
    "                    fltr=False\n",
    "    return(fltr)"
   ]
  },
  {
   "cell_type": "code",
   "execution_count": 24,
   "metadata": {},
   "outputs": [
    {
     "name": "stdout",
     "output_type": "stream",
     "text": [
      "Filter=Al 0.5mm\n",
      "\n"
     ]
    },
    {
     "data": {
      "text/plain": [
       "'Al 0.5mm'"
      ]
     },
     "execution_count": 24,
     "metadata": {},
     "output_type": "execute_result"
    }
   ],
   "source": [
    "whichfilter(log, verbose=True)"
   ]
  },
  {
   "cell_type": "code",
   "execution_count": 25,
   "metadata": {},
   "outputs": [],
   "source": [
    "def numproj(logfile, verbose=False):\n",
    "    with open(logfile, 'r') as f:\n",
    "        for line in f:\n",
    "            if 'f Files' in line:\n",
    "                if verbose:\n",
    "                    print(line)\n",
    "                numproj = int(line.split('=')[1])\n",
    "    return(numproj)"
   ]
  },
  {
   "cell_type": "code",
   "execution_count": 26,
   "metadata": {},
   "outputs": [
    {
     "name": "stdout",
     "output_type": "stream",
     "text": [
      "Number Of Files=  482\n",
      "\n"
     ]
    },
    {
     "data": {
      "text/plain": [
       "482"
      ]
     },
     "execution_count": 26,
     "metadata": {},
     "output_type": "execute_result"
    }
   ],
   "source": [
    "numproj(log, verbose=True)"
   ]
  },
  {
   "cell_type": "code",
   "execution_count": 27,
   "metadata": {},
   "outputs": [],
   "source": [
    "def stacks(logfile, verbose=False):\n",
    "    with open(logfile, 'r') as f:\n",
    "        # If only one stack, then there's nothing in the log file\n",
    "        numstacks = 0\n",
    "        for line in f:\n",
    "            if 'of conn' in line:\n",
    "                if verbose:\n",
    "                    print(line)\n",
    "                # The 'Sub-scan scan length' is listed in the log file\n",
    "                # We simply select the last one, and add 1, since Bruker also starts to count at zero\n",
    "                numstacks = int(line.split('=')[1])\n",
    "    return(numstacks)"
   ]
  },
  {
   "cell_type": "code",
   "execution_count": 28,
   "metadata": {},
   "outputs": [
    {
     "name": "stdout",
     "output_type": "stream",
     "text": [
      "Number of connected scans=5\n",
      "\n"
     ]
    },
    {
     "data": {
      "text/plain": [
       "5"
      ]
     },
     "execution_count": 28,
     "metadata": {},
     "output_type": "execute_result"
    }
   ],
   "source": [
    "stacks(log, verbose=True)"
   ]
  },
  {
   "cell_type": "code",
   "execution_count": 29,
   "metadata": {},
   "outputs": [],
   "source": [
    "def camerasize(logfile, verbose=False):\n",
    "    with open(logfile, 'r') as f:\n",
    "        for line in f:\n",
    "            if 'Columns' in line:\n",
    "                if verbose:\n",
    "                    print(line)\n",
    "                columns = int(line.split('=')[1])\n",
    "            if 'Rows' in line:\n",
    "                if verbose:\n",
    "                    print(line)\n",
    "                rows = int(line.split('=')[1])\n",
    "    return(columns, rows)"
   ]
  },
  {
   "cell_type": "code",
   "execution_count": 30,
   "metadata": {},
   "outputs": [
    {
     "name": "stdout",
     "output_type": "stream",
     "text": [
      "Number Of Rows= 1092\n",
      "\n",
      "Number Of Columns= 1632\n",
      "\n"
     ]
    },
    {
     "data": {
      "text/plain": [
       "(1632, 1092)"
      ]
     },
     "execution_count": 30,
     "metadata": {},
     "output_type": "execute_result"
    }
   ],
   "source": [
    "camerasize(log, verbose=True)"
   ]
  },
  {
   "cell_type": "code",
   "execution_count": 31,
   "metadata": {},
   "outputs": [],
   "source": [
    "def overlapscan(logfile, verbose=False):\n",
    "    with open(logfile, 'r') as f:\n",
    "        for line in f:\n",
    "            if 'Horizontal Off' in line:\n",
    "                if verbose:\n",
    "                    print(line)\n",
    "                wide = int(line.split('=')[1])\n",
    "                if wide == 1:\n",
    "                    wide=False\n",
    "    return(wide)"
   ]
  },
  {
   "cell_type": "code",
   "execution_count": 32,
   "metadata": {},
   "outputs": [
    {
     "name": "stdout",
     "output_type": "stream",
     "text": [
      "Number Of Horizontal Offset Positions=1\n",
      "\n"
     ]
    },
    {
     "data": {
      "text/plain": [
       "False"
      ]
     },
     "execution_count": 32,
     "metadata": {},
     "output_type": "execute_result"
    }
   ],
   "source": [
    "overlapscan(log, verbose=True)"
   ]
  },
  {
   "cell_type": "code",
   "execution_count": 33,
   "metadata": {},
   "outputs": [],
   "source": [
    "def threesixtyscan(logfile, verbose=False):\n",
    "    with open(logfile, 'r') as f:\n",
    "        for line in f:\n",
    "            if '0 Rotation' in line:\n",
    "                if verbose:\n",
    "                    print(line)\n",
    "                threesixty = line.split('=')[1].strip()\n",
    "                if threesixty == 'YES':\n",
    "                    threesixty = True\n",
    "                else:\n",
    "                    threesixty = False\n",
    "    return(threesixty)"
   ]
  },
  {
   "cell_type": "code",
   "execution_count": 34,
   "metadata": {},
   "outputs": [
    {
     "name": "stdout",
     "output_type": "stream",
     "text": [
      "Use 360 Rotation=NO\n",
      "\n"
     ]
    },
    {
     "data": {
      "text/plain": [
       "False"
      ]
     },
     "execution_count": 34,
     "metadata": {},
     "output_type": "execute_result"
    }
   ],
   "source": [
    "threesixtyscan(log, verbose=True)"
   ]
  },
  {
   "cell_type": "code",
   "execution_count": 35,
   "metadata": {},
   "outputs": [],
   "source": [
    "def rotationstep(logfile, verbose=False):\n",
    "    with open(logfile, 'r') as f:\n",
    "        for line in f:\n",
    "            if 'Rotation Step' in line:\n",
    "                if verbose:\n",
    "                    print(line)\n",
    "                rotstep = float(line.split('=')[1])\n",
    "    return(rotstep)"
   ]
  },
  {
   "cell_type": "code",
   "execution_count": 36,
   "metadata": {},
   "outputs": [
    {
     "name": "stdout",
     "output_type": "stream",
     "text": [
      "Rotation Step (deg)=0.400\n",
      "\n"
     ]
    },
    {
     "data": {
      "text/plain": [
       "0.4"
      ]
     },
     "execution_count": 36,
     "metadata": {},
     "output_type": "execute_result"
    }
   ],
   "source": [
    "rotationstep(log, verbose=True)"
   ]
  },
  {
   "cell_type": "code",
   "execution_count": 37,
   "metadata": {},
   "outputs": [],
   "source": [
    "def exposure(logfile, verbose=False):\n",
    "    with open(logfile, 'r') as f:\n",
    "        for line in f:\n",
    "            if 'Exposure' in line:\n",
    "                if verbose:\n",
    "                    print(line)\n",
    "                exp = int(line.split('=')[1])\n",
    "    return(exp)"
   ]
  },
  {
   "cell_type": "code",
   "execution_count": 38,
   "metadata": {},
   "outputs": [
    {
     "name": "stdout",
     "output_type": "stream",
     "text": [
      "Exposure (ms)=862\n",
      "\n"
     ]
    },
    {
     "data": {
      "text/plain": [
       "862"
      ]
     },
     "execution_count": 38,
     "metadata": {},
     "output_type": "execute_result"
    }
   ],
   "source": [
    "exposure(log, verbose=True)"
   ]
  },
  {
   "cell_type": "code",
   "execution_count": 39,
   "metadata": {},
   "outputs": [],
   "source": [
    "def averaging(logfile, verbose=False):\n",
    "    with open(logfile, 'r') as f:\n",
    "        for line in f:\n",
    "            if 'Avera' in line:\n",
    "                if verbose:\n",
    "                    print(line)\n",
    "                details = line.split('=')[1]\n",
    "                if 'ON' in details:\n",
    "                    # https://stackoverflow.com/a/4894156/323100\n",
    "                    avg = int(details[details.find(\"(\")+1:details.find(\")\")])\n",
    "                else:\n",
    "                    avg=False\n",
    "    return(avg)"
   ]
  },
  {
   "cell_type": "code",
   "execution_count": 40,
   "metadata": {},
   "outputs": [
    {
     "name": "stdout",
     "output_type": "stream",
     "text": [
      "Frame Averaging=ON (3)\n",
      "\n"
     ]
    },
    {
     "data": {
      "text/plain": [
       "3"
      ]
     },
     "execution_count": 40,
     "metadata": {},
     "output_type": "execute_result"
    }
   ],
   "source": [
    "averaging(log, verbose=True)"
   ]
  },
  {
   "cell_type": "code",
   "execution_count": 41,
   "metadata": {},
   "outputs": [],
   "source": [
    "import datetime\n",
    "def duration(logfile, verbose=False):\n",
    "    '''Returns scantime in *seconds*'''\n",
    "    with open(logfile, 'r') as f:\n",
    "        for line in f:\n",
    "            if 'Scan duration' in line:\n",
    "                if verbose:\n",
    "                    print(line)\n",
    "                duration = line.split('=')[1].strip()\n",
    "    # Sometimes it's '00:24:26', sometimes '0h:52m:53s' :-/\n",
    "    if 'h' in duration:\n",
    "        scantime = datetime.datetime.strptime(duration, '%Hh:%Mm:%Ss')\n",
    "    else:\n",
    "        scantime = datetime.datetime.strptime(duration, '%H:%M:%S')\n",
    "    return((scantime-datetime.datetime(1900,1,1)).total_seconds())"
   ]
  },
  {
   "cell_type": "code",
   "execution_count": 42,
   "metadata": {},
   "outputs": [
    {
     "name": "stdout",
     "output_type": "stream",
     "text": [
      "Scan duration=0h:36m:49s\n",
      "\n"
     ]
    },
    {
     "data": {
      "text/plain": [
       "2209.0"
      ]
     },
     "execution_count": 42,
     "metadata": {},
     "output_type": "execute_result"
    }
   ],
   "source": [
    "duration(log, verbose=True)"
   ]
  },
  {
   "cell_type": "code",
   "execution_count": 43,
   "metadata": {},
   "outputs": [],
   "source": [
    "def timeformat(tdelta, fmt):\n",
    "    # From https://stackoverflow.com/a/8907269/323100\n",
    "    d = {\"days\": tdelta.days}\n",
    "    d[\"hours\"], rem = divmod(tdelta.seconds, 3600)\n",
    "    d[\"minutes\"], d[\"seconds\"] = divmod(rem, 60)\n",
    "    return fmt.format(**d)"
   ]
  },
  {
   "cell_type": "code",
   "execution_count": 44,
   "metadata": {},
   "outputs": [
    {
     "name": "stdout",
     "output_type": "stream",
     "text": [
      "Each stack took 36 minutes to scan\n"
     ]
    }
   ],
   "source": [
    "print('Each stack took', end=' ')\n",
    "if duration(log)/3600 > 1:\n",
    "    # Scan took hours\n",
    "    print(timeformat(datetime.timedelta(seconds=duration(log)),\n",
    "                     '{hours} hours and {minutes} minutes'), end=' ')\n",
    "else:\n",
    "    print(timeformat(datetime.timedelta(seconds=duration(log)),\n",
    "                     '{minutes} minutes'), end=' ')\n",
    "print('to scan')"
   ]
  },
  {
   "cell_type": "code",
   "execution_count": 45,
   "metadata": {},
   "outputs": [],
   "source": [
    "def pixelsize(logfile, verbose=False):\n",
    "    with open(logfile, 'r') as f:\n",
    "        for line in f:\n",
    "            if 'Image Pixel' in line and 'Scaled' not in line:\n",
    "                if verbose:\n",
    "                    print(line)\n",
    "                pixelsize = float(line.split('=')[1])\n",
    "    return(pixelsize)"
   ]
  },
  {
   "cell_type": "code",
   "execution_count": 46,
   "metadata": {},
   "outputs": [
    {
     "name": "stdout",
     "output_type": "stream",
     "text": [
      "Image Pixel Size (um)=7.999950\n",
      "\n"
     ]
    },
    {
     "data": {
      "text/plain": [
       "7.99995"
      ]
     },
     "execution_count": 46,
     "metadata": {},
     "output_type": "execute_result"
    }
   ],
   "source": [
    "pixelsize(log, verbose=True)"
   ]
  },
  {
   "cell_type": "code",
   "execution_count": 47,
   "metadata": {},
   "outputs": [],
   "source": [
    "def version(logfile, verbose=False):\n",
    "    Program = numpy.nan\n",
    "    Version = numpy.nan\n",
    "    with open(logfile, 'r') as f:\n",
    "        for line in f:\n",
    "            if 'Reconstruction Program' in line:\n",
    "                if verbose:\n",
    "                    print(line)\n",
    "                Program = line.split('=')[1].strip()\n",
    "            if 'Program Version' in line:\n",
    "                if verbose:\n",
    "                    print(line)\n",
    "                Version = line.split('sion:')[1].strip()\n",
    "    return(Program, Version)"
   ]
  },
  {
   "cell_type": "code",
   "execution_count": 48,
   "metadata": {},
   "outputs": [
    {
     "name": "stdout",
     "output_type": "stream",
     "text": [
      "Reconstruction Program=NRecon\n",
      "\n",
      "Program Version=Version: 2.0.0.5\n",
      "\n"
     ]
    },
    {
     "data": {
      "text/plain": [
       "('NRecon', '2.0.0.5')"
      ]
     },
     "execution_count": 48,
     "metadata": {},
     "output_type": "execute_result"
    }
   ],
   "source": [
    "version(log, verbose=True)"
   ]
  },
  {
   "cell_type": "code",
   "execution_count": 49,
   "metadata": {},
   "outputs": [],
   "source": [
    "def ringremoval(logfile, verbose=False):\n",
    "    ring = numpy.nan\n",
    "    with open(logfile, 'r') as f:\n",
    "        for line in f:\n",
    "            if 'Ring' in line:\n",
    "                if verbose:\n",
    "                    print(line)\n",
    "                ring = int(line.split('=')[1].strip())\n",
    "    return(ring)"
   ]
  },
  {
   "cell_type": "code",
   "execution_count": 50,
   "metadata": {},
   "outputs": [
    {
     "name": "stdout",
     "output_type": "stream",
     "text": [
      "Ring Artifact Correction=7\n",
      "\n"
     ]
    },
    {
     "data": {
      "text/plain": [
       "7"
      ]
     },
     "execution_count": 50,
     "metadata": {},
     "output_type": "execute_result"
    }
   ],
   "source": [
    "ringremoval(log, verbose=True)"
   ]
  },
  {
   "cell_type": "code",
   "execution_count": 51,
   "metadata": {},
   "outputs": [],
   "source": [
    "def beamhardening(logfile, verbose=False):\n",
    "    bh = numpy.nan\n",
    "    with open(logfile, 'r') as f:\n",
    "        for line in f:\n",
    "            if 'ardeni' in line:\n",
    "                if verbose:\n",
    "                    print(line)\n",
    "                bh = int(line.split('=')[1].strip())\n",
    "    return(bh)"
   ]
  },
  {
   "cell_type": "code",
   "execution_count": 52,
   "metadata": {},
   "outputs": [
    {
     "name": "stdout",
     "output_type": "stream",
     "text": [
      "Beam Hardening Correction (%)=0\n",
      "\n"
     ]
    },
    {
     "data": {
      "text/plain": [
       "0"
      ]
     },
     "execution_count": 52,
     "metadata": {},
     "output_type": "execute_result"
    }
   ],
   "source": [
    "beamhardening(log, verbose=True)"
   ]
  },
  {
   "cell_type": "code",
   "execution_count": 53,
   "metadata": {},
   "outputs": [],
   "source": [
    "def get_reconstruction_grayvalue(logfile, verbose=False):\n",
    "    grayvalue = None\n",
    "    \"\"\"How did we map the brightness of the reconstructions?\"\"\"\n",
    "    with open(logfile, 'r') as f:\n",
    "        for line in f:\n",
    "            if 'Maximum for' in line:\n",
    "                if verbose:\n",
    "                    print(line)\n",
    "                grayvalue = float(line.split('=')[1])\n",
    "    return(grayvalue)"
   ]
  },
  {
   "cell_type": "code",
   "execution_count": 54,
   "metadata": {},
   "outputs": [
    {
     "name": "stdout",
     "output_type": "stream",
     "text": [
      "Maximum for CS to Image Conversion=0.150000\n",
      "\n"
     ]
    },
    {
     "data": {
      "text/plain": [
       "0.15"
      ]
     },
     "execution_count": 54,
     "metadata": {},
     "output_type": "execute_result"
    }
   ],
   "source": [
    "get_reconstruction_grayvalue(log, verbose=True)"
   ]
  },
  {
   "cell_type": "markdown",
   "metadata": {},
   "source": [
    "Extract *all* values for *all* log files."
   ]
  },
  {
   "cell_type": "code",
   "execution_count": 55,
   "metadata": {},
   "outputs": [],
   "source": [
    "Data['Scanner'] = [scanner(log) for log in Data['LogFile']]\n",
    "Data['Software'] = [controlsoftware(log) for log in Data['LogFile']]"
   ]
  },
  {
   "cell_type": "code",
   "execution_count": 56,
   "metadata": {},
   "outputs": [],
   "source": [
    "Data['Voxelsize'] = [pixelsize(log) for log in Data['LogFile']]\n",
    "Data['Voxelsize_rounded'] = [round(vs,1) for vs in Data['Voxelsize']]"
   ]
  },
  {
   "cell_type": "code",
   "execution_count": 57,
   "metadata": {},
   "outputs": [],
   "source": [
    "Data['Source'] = [source(log) for log in Data['LogFile']]\n",
    "Data['Camera'] = [camera(log) for log in Data['LogFile']]"
   ]
  },
  {
   "cell_type": "code",
   "execution_count": 58,
   "metadata": {},
   "outputs": [],
   "source": [
    "Data['Voltage'] = [voltage(log) for log in Data['LogFile']]\n",
    "Data['Current'] = [current(log) for log in Data['LogFile']]\n",
    "Data['Filter'] = [whichfilter(log) for log in Data['LogFile']]"
   ]
  },
  {
   "cell_type": "code",
   "execution_count": 59,
   "metadata": {},
   "outputs": [],
   "source": [
    "Data['Stacks'] = [stacks(log) for log in Data['LogFile']]\n",
    "Data['NumProj'] = [numproj(log) for log in Data['LogFile']]\n",
    "Data['CamSize'] = [camerasize(log) for log in Data['LogFile']]\n",
    "Data['RotationStep'] = [rotationstep(log) for log in Data['LogFile']]\n",
    "Data['Wide'] = [overlapscan(log) for log in Data.LogFile]\n",
    "Data['ThreeSixty'] = [threesixtyscan(log) for log in Data['LogFile']]"
   ]
  },
  {
   "cell_type": "code",
   "execution_count": 60,
   "metadata": {},
   "outputs": [],
   "source": [
    "Data['RingRemoval'] = [ringremoval(log) for log in Data['LogFile']]\n",
    "Data['Beamhardening'] = [beamhardening(log) for log in Data['LogFile']]\n",
    "Data['GrayValueMax'] = [get_reconstruction_grayvalue(log) for log in Data['LogFile']]"
   ]
  },
  {
   "cell_type": "code",
   "execution_count": 61,
   "metadata": {},
   "outputs": [],
   "source": [
    "Data['Exposure'] = [exposure(log) for log in Data['LogFile']]\n",
    "Data['Averaging'] = [averaging(log) for log in Data['LogFile']]"
   ]
  },
  {
   "cell_type": "code",
   "execution_count": 62,
   "metadata": {},
   "outputs": [],
   "source": [
    "Data['Duration'] = [duration(log) for log in Data['LogFile']]"
   ]
  },
  {
   "cell_type": "code",
   "execution_count": 63,
   "metadata": {},
   "outputs": [],
   "source": [
    "Data['Version'] = [version(log) for log in Data['LogFile']]"
   ]
  },
  {
   "cell_type": "code",
   "execution_count": 64,
   "metadata": {},
   "outputs": [],
   "source": [
    "# Save out data to CSV, so we can link to it in the manuscript.\n",
    "Data.to_csv(os.path.join('data','cox7a-tomography.csv'))"
   ]
  },
  {
   "cell_type": "code",
   "execution_count": 65,
   "metadata": {},
   "outputs": [
    {
     "data": {
      "text/html": [
       "<div>\n",
       "<style scoped>\n",
       "    .dataframe tbody tr th:only-of-type {\n",
       "        vertical-align: middle;\n",
       "    }\n",
       "\n",
       "    .dataframe tbody tr th {\n",
       "        vertical-align: top;\n",
       "    }\n",
       "\n",
       "    .dataframe thead th {\n",
       "        text-align: right;\n",
       "    }\n",
       "</style>\n",
       "<table border=\"1\" class=\"dataframe\">\n",
       "  <thead>\n",
       "    <tr style=\"text-align: right;\">\n",
       "      <th></th>\n",
       "      <th>LogFile</th>\n",
       "      <th>Scan</th>\n",
       "      <th>Scanner</th>\n",
       "      <th>Software</th>\n",
       "      <th>Voxelsize</th>\n",
       "      <th>Voxelsize_rounded</th>\n",
       "      <th>Source</th>\n",
       "      <th>Camera</th>\n",
       "      <th>Voltage</th>\n",
       "      <th>Current</th>\n",
       "      <th>...</th>\n",
       "      <th>RotationStep</th>\n",
       "      <th>Wide</th>\n",
       "      <th>ThreeSixty</th>\n",
       "      <th>RingRemoval</th>\n",
       "      <th>Beamhardening</th>\n",
       "      <th>GrayValueMax</th>\n",
       "      <th>Exposure</th>\n",
       "      <th>Averaging</th>\n",
       "      <th>Duration</th>\n",
       "      <th>Version</th>\n",
       "    </tr>\n",
       "  </thead>\n",
       "  <tbody>\n",
       "    <tr>\n",
       "      <th>0</th>\n",
       "      <td>/home/habi/research-storage-uct/Archiv_Tape/Ze...</td>\n",
       "      <td>ko01</td>\n",
       "      <td>SkyScan 1272</td>\n",
       "      <td>1.1.19</td>\n",
       "      <td>7.99995</td>\n",
       "      <td>8.0</td>\n",
       "      <td>Hamamatsu L11871_20</td>\n",
       "      <td>XIMEA xiRAY16</td>\n",
       "      <td>70.0</td>\n",
       "      <td>142.0</td>\n",
       "      <td>...</td>\n",
       "      <td>0.4</td>\n",
       "      <td>False</td>\n",
       "      <td>False</td>\n",
       "      <td>7</td>\n",
       "      <td>0</td>\n",
       "      <td>0.15</td>\n",
       "      <td>862</td>\n",
       "      <td>3</td>\n",
       "      <td>2206.0</td>\n",
       "      <td>(NRecon, 2.0.0.5)</td>\n",
       "    </tr>\n",
       "    <tr>\n",
       "      <th>1</th>\n",
       "      <td>/home/habi/research-storage-uct/Archiv_Tape/Ze...</td>\n",
       "      <td>ko02</td>\n",
       "      <td>SkyScan 1272</td>\n",
       "      <td>1.1.19</td>\n",
       "      <td>7.99995</td>\n",
       "      <td>8.0</td>\n",
       "      <td>Hamamatsu L11871_20</td>\n",
       "      <td>XIMEA xiRAY16</td>\n",
       "      <td>70.0</td>\n",
       "      <td>142.0</td>\n",
       "      <td>...</td>\n",
       "      <td>0.4</td>\n",
       "      <td>False</td>\n",
       "      <td>False</td>\n",
       "      <td>7</td>\n",
       "      <td>0</td>\n",
       "      <td>0.15</td>\n",
       "      <td>862</td>\n",
       "      <td>3</td>\n",
       "      <td>2209.0</td>\n",
       "      <td>(NRecon, 2.0.0.5)</td>\n",
       "    </tr>\n",
       "    <tr>\n",
       "      <th>2</th>\n",
       "      <td>/home/habi/research-storage-uct/Archiv_Tape/Ze...</td>\n",
       "      <td>ko03</td>\n",
       "      <td>SkyScan 1272</td>\n",
       "      <td>1.1.19</td>\n",
       "      <td>7.99995</td>\n",
       "      <td>8.0</td>\n",
       "      <td>Hamamatsu L11871_20</td>\n",
       "      <td>XIMEA xiRAY16</td>\n",
       "      <td>70.0</td>\n",
       "      <td>142.0</td>\n",
       "      <td>...</td>\n",
       "      <td>0.4</td>\n",
       "      <td>False</td>\n",
       "      <td>False</td>\n",
       "      <td>7</td>\n",
       "      <td>0</td>\n",
       "      <td>0.15</td>\n",
       "      <td>862</td>\n",
       "      <td>3</td>\n",
       "      <td>2208.0</td>\n",
       "      <td>(NRecon, 2.0.0.5)</td>\n",
       "    </tr>\n",
       "    <tr>\n",
       "      <th>3</th>\n",
       "      <td>/home/habi/research-storage-uct/Archiv_Tape/Ze...</td>\n",
       "      <td>ko04</td>\n",
       "      <td>SkyScan 1272</td>\n",
       "      <td>1.1.19</td>\n",
       "      <td>7.99995</td>\n",
       "      <td>8.0</td>\n",
       "      <td>Hamamatsu L11871_20</td>\n",
       "      <td>XIMEA xiRAY16</td>\n",
       "      <td>70.0</td>\n",
       "      <td>142.0</td>\n",
       "      <td>...</td>\n",
       "      <td>0.4</td>\n",
       "      <td>False</td>\n",
       "      <td>False</td>\n",
       "      <td>7</td>\n",
       "      <td>0</td>\n",
       "      <td>0.15</td>\n",
       "      <td>862</td>\n",
       "      <td>3</td>\n",
       "      <td>2207.0</td>\n",
       "      <td>(NRecon, 2.0.0.5)</td>\n",
       "    </tr>\n",
       "    <tr>\n",
       "      <th>4</th>\n",
       "      <td>/home/habi/research-storage-uct/Archiv_Tape/Ze...</td>\n",
       "      <td>ko05</td>\n",
       "      <td>SkyScan 1272</td>\n",
       "      <td>1.1.19</td>\n",
       "      <td>7.99995</td>\n",
       "      <td>8.0</td>\n",
       "      <td>Hamamatsu L11871_20</td>\n",
       "      <td>XIMEA xiRAY16</td>\n",
       "      <td>70.0</td>\n",
       "      <td>142.0</td>\n",
       "      <td>...</td>\n",
       "      <td>0.4</td>\n",
       "      <td>False</td>\n",
       "      <td>False</td>\n",
       "      <td>7</td>\n",
       "      <td>0</td>\n",
       "      <td>0.15</td>\n",
       "      <td>862</td>\n",
       "      <td>3</td>\n",
       "      <td>2206.0</td>\n",
       "      <td>(NRecon, 2.0.0.5)</td>\n",
       "    </tr>\n",
       "    <tr>\n",
       "      <th>5</th>\n",
       "      <td>/home/habi/research-storage-uct/Archiv_Tape/Ze...</td>\n",
       "      <td>wt01</td>\n",
       "      <td>SkyScan 1272</td>\n",
       "      <td>1.1.19</td>\n",
       "      <td>7.99995</td>\n",
       "      <td>8.0</td>\n",
       "      <td>Hamamatsu L11871_20</td>\n",
       "      <td>XIMEA xiRAY16</td>\n",
       "      <td>70.0</td>\n",
       "      <td>142.0</td>\n",
       "      <td>...</td>\n",
       "      <td>0.4</td>\n",
       "      <td>False</td>\n",
       "      <td>False</td>\n",
       "      <td>7</td>\n",
       "      <td>0</td>\n",
       "      <td>0.15</td>\n",
       "      <td>862</td>\n",
       "      <td>3</td>\n",
       "      <td>2209.0</td>\n",
       "      <td>(NRecon, 2.0.0.5)</td>\n",
       "    </tr>\n",
       "    <tr>\n",
       "      <th>6</th>\n",
       "      <td>/home/habi/research-storage-uct/Archiv_Tape/Ze...</td>\n",
       "      <td>wt02</td>\n",
       "      <td>SkyScan 1272</td>\n",
       "      <td>1.1.19</td>\n",
       "      <td>7.99995</td>\n",
       "      <td>8.0</td>\n",
       "      <td>Hamamatsu L11871_20</td>\n",
       "      <td>XIMEA xiRAY16</td>\n",
       "      <td>70.0</td>\n",
       "      <td>142.0</td>\n",
       "      <td>...</td>\n",
       "      <td>0.4</td>\n",
       "      <td>False</td>\n",
       "      <td>False</td>\n",
       "      <td>7</td>\n",
       "      <td>0</td>\n",
       "      <td>0.15</td>\n",
       "      <td>862</td>\n",
       "      <td>3</td>\n",
       "      <td>2210.0</td>\n",
       "      <td>(NRecon, 2.0.0.5)</td>\n",
       "    </tr>\n",
       "    <tr>\n",
       "      <th>7</th>\n",
       "      <td>/home/habi/research-storage-uct/Archiv_Tape/Ze...</td>\n",
       "      <td>wt03</td>\n",
       "      <td>SkyScan 1272</td>\n",
       "      <td>1.1.19</td>\n",
       "      <td>7.99995</td>\n",
       "      <td>8.0</td>\n",
       "      <td>Hamamatsu L11871_20</td>\n",
       "      <td>XIMEA xiRAY16</td>\n",
       "      <td>70.0</td>\n",
       "      <td>142.0</td>\n",
       "      <td>...</td>\n",
       "      <td>0.4</td>\n",
       "      <td>False</td>\n",
       "      <td>False</td>\n",
       "      <td>7</td>\n",
       "      <td>0</td>\n",
       "      <td>0.15</td>\n",
       "      <td>862</td>\n",
       "      <td>3</td>\n",
       "      <td>2206.0</td>\n",
       "      <td>(NRecon, 2.0.0.5)</td>\n",
       "    </tr>\n",
       "    <tr>\n",
       "      <th>8</th>\n",
       "      <td>/home/habi/research-storage-uct/Archiv_Tape/Ze...</td>\n",
       "      <td>wt04</td>\n",
       "      <td>SkyScan 1272</td>\n",
       "      <td>1.1.19</td>\n",
       "      <td>7.99995</td>\n",
       "      <td>8.0</td>\n",
       "      <td>Hamamatsu L11871_20</td>\n",
       "      <td>XIMEA xiRAY16</td>\n",
       "      <td>70.0</td>\n",
       "      <td>142.0</td>\n",
       "      <td>...</td>\n",
       "      <td>0.4</td>\n",
       "      <td>False</td>\n",
       "      <td>False</td>\n",
       "      <td>7</td>\n",
       "      <td>0</td>\n",
       "      <td>0.15</td>\n",
       "      <td>862</td>\n",
       "      <td>3</td>\n",
       "      <td>2209.0</td>\n",
       "      <td>(NRecon, 2.0.0.5)</td>\n",
       "    </tr>\n",
       "    <tr>\n",
       "      <th>9</th>\n",
       "      <td>/home/habi/research-storage-uct/Archiv_Tape/Ze...</td>\n",
       "      <td>wt05</td>\n",
       "      <td>SkyScan 1272</td>\n",
       "      <td>1.1.19</td>\n",
       "      <td>7.99995</td>\n",
       "      <td>8.0</td>\n",
       "      <td>Hamamatsu L11871_20</td>\n",
       "      <td>XIMEA xiRAY16</td>\n",
       "      <td>70.0</td>\n",
       "      <td>142.0</td>\n",
       "      <td>...</td>\n",
       "      <td>0.4</td>\n",
       "      <td>False</td>\n",
       "      <td>False</td>\n",
       "      <td>7</td>\n",
       "      <td>0</td>\n",
       "      <td>0.15</td>\n",
       "      <td>862</td>\n",
       "      <td>3</td>\n",
       "      <td>2213.0</td>\n",
       "      <td>(NRecon, 2.0.0.5)</td>\n",
       "    </tr>\n",
       "  </tbody>\n",
       "</table>\n",
       "<p>10 rows × 24 columns</p>\n",
       "</div>"
      ],
      "text/plain": [
       "                                             LogFile  Scan       Scanner  \\\n",
       "0  /home/habi/research-storage-uct/Archiv_Tape/Ze...  ko01  SkyScan 1272   \n",
       "1  /home/habi/research-storage-uct/Archiv_Tape/Ze...  ko02  SkyScan 1272   \n",
       "2  /home/habi/research-storage-uct/Archiv_Tape/Ze...  ko03  SkyScan 1272   \n",
       "3  /home/habi/research-storage-uct/Archiv_Tape/Ze...  ko04  SkyScan 1272   \n",
       "4  /home/habi/research-storage-uct/Archiv_Tape/Ze...  ko05  SkyScan 1272   \n",
       "5  /home/habi/research-storage-uct/Archiv_Tape/Ze...  wt01  SkyScan 1272   \n",
       "6  /home/habi/research-storage-uct/Archiv_Tape/Ze...  wt02  SkyScan 1272   \n",
       "7  /home/habi/research-storage-uct/Archiv_Tape/Ze...  wt03  SkyScan 1272   \n",
       "8  /home/habi/research-storage-uct/Archiv_Tape/Ze...  wt04  SkyScan 1272   \n",
       "9  /home/habi/research-storage-uct/Archiv_Tape/Ze...  wt05  SkyScan 1272   \n",
       "\n",
       "  Software  Voxelsize  Voxelsize_rounded               Source         Camera  \\\n",
       "0   1.1.19    7.99995                8.0  Hamamatsu L11871_20  XIMEA xiRAY16   \n",
       "1   1.1.19    7.99995                8.0  Hamamatsu L11871_20  XIMEA xiRAY16   \n",
       "2   1.1.19    7.99995                8.0  Hamamatsu L11871_20  XIMEA xiRAY16   \n",
       "3   1.1.19    7.99995                8.0  Hamamatsu L11871_20  XIMEA xiRAY16   \n",
       "4   1.1.19    7.99995                8.0  Hamamatsu L11871_20  XIMEA xiRAY16   \n",
       "5   1.1.19    7.99995                8.0  Hamamatsu L11871_20  XIMEA xiRAY16   \n",
       "6   1.1.19    7.99995                8.0  Hamamatsu L11871_20  XIMEA xiRAY16   \n",
       "7   1.1.19    7.99995                8.0  Hamamatsu L11871_20  XIMEA xiRAY16   \n",
       "8   1.1.19    7.99995                8.0  Hamamatsu L11871_20  XIMEA xiRAY16   \n",
       "9   1.1.19    7.99995                8.0  Hamamatsu L11871_20  XIMEA xiRAY16   \n",
       "\n",
       "   Voltage  Current  ... RotationStep   Wide  ThreeSixty RingRemoval  \\\n",
       "0     70.0    142.0  ...          0.4  False       False           7   \n",
       "1     70.0    142.0  ...          0.4  False       False           7   \n",
       "2     70.0    142.0  ...          0.4  False       False           7   \n",
       "3     70.0    142.0  ...          0.4  False       False           7   \n",
       "4     70.0    142.0  ...          0.4  False       False           7   \n",
       "5     70.0    142.0  ...          0.4  False       False           7   \n",
       "6     70.0    142.0  ...          0.4  False       False           7   \n",
       "7     70.0    142.0  ...          0.4  False       False           7   \n",
       "8     70.0    142.0  ...          0.4  False       False           7   \n",
       "9     70.0    142.0  ...          0.4  False       False           7   \n",
       "\n",
       "   Beamhardening  GrayValueMax  Exposure  Averaging  Duration  \\\n",
       "0              0          0.15       862          3    2206.0   \n",
       "1              0          0.15       862          3    2209.0   \n",
       "2              0          0.15       862          3    2208.0   \n",
       "3              0          0.15       862          3    2207.0   \n",
       "4              0          0.15       862          3    2206.0   \n",
       "5              0          0.15       862          3    2209.0   \n",
       "6              0          0.15       862          3    2210.0   \n",
       "7              0          0.15       862          3    2206.0   \n",
       "8              0          0.15       862          3    2209.0   \n",
       "9              0          0.15       862          3    2213.0   \n",
       "\n",
       "             Version  \n",
       "0  (NRecon, 2.0.0.5)  \n",
       "1  (NRecon, 2.0.0.5)  \n",
       "2  (NRecon, 2.0.0.5)  \n",
       "3  (NRecon, 2.0.0.5)  \n",
       "4  (NRecon, 2.0.0.5)  \n",
       "5  (NRecon, 2.0.0.5)  \n",
       "6  (NRecon, 2.0.0.5)  \n",
       "7  (NRecon, 2.0.0.5)  \n",
       "8  (NRecon, 2.0.0.5)  \n",
       "9  (NRecon, 2.0.0.5)  \n",
       "\n",
       "[10 rows x 24 columns]"
      ]
     },
     "execution_count": 65,
     "metadata": {},
     "output_type": "execute_result"
    }
   ],
   "source": [
    "Data"
   ]
  },
  {
   "cell_type": "markdown",
   "metadata": {},
   "source": [
    "----"
   ]
  },
  {
   "cell_type": "markdown",
   "metadata": {},
   "source": [
    "Pour all the values into text, according to my standard microct blurb from http://simp.ly/publish/NBhZhH"
   ]
  },
  {
   "cell_type": "code",
   "execution_count": 66,
   "metadata": {},
   "outputs": [
    {
     "name": "stdout",
     "output_type": "stream",
     "text": [
      "Based on the 10 log files in /home/habi/research-storage-uct/Archiv_Tape/*Carolina*Muscles*\n"
     ]
    }
   ],
   "source": [
    "print('Based on the %s log files in %s' % (len(Data), Root))"
   ]
  },
  {
   "cell_type": "code",
   "execution_count": 67,
   "metadata": {},
   "outputs": [
    {
     "name": "stdout",
     "output_type": "stream",
     "text": [
      "After $PREPARATION, the 10 samples were imaged on a Bruker SkyScan 1272 high-resolution microtomography machine (Control software version 1.1.19, Bruker microCT, Kontich, Belgium).\n"
     ]
    }
   ],
   "source": [
    "print('After $PREPARATION, the',\n",
    "      len(Data),\n",
    "      'samples were imaged on a Bruker',\n",
    "      \" OR \".join(str(value) for value in Data.Scanner.unique()),\n",
    "      'high-resolution microtomography machine (Control software version',\n",
    "      \" OR \".join(str(value) for value in Data.Software.unique()) + \n",
    "      ', Bruker microCT, Kontich, Belgium).')"
   ]
  },
  {
   "cell_type": "code",
   "execution_count": 68,
   "metadata": {},
   "outputs": [
    {
     "name": "stdout",
     "output_type": "stream",
     "text": [
      "The machine is equipped with a Hamamatsu L11871_20 X-ray source and a XIMEA xiRAY16 camera.\n"
     ]
    }
   ],
   "source": [
    "print('The machine is equipped with a',\n",
    "      \" OR \".join(str(value) for value in Data.Source.unique()),\n",
    "      'X-ray source and a',\n",
    "      \" OR \".join(str(value) for value in Data.Camera.unique()),\n",
    "      'camera.')"
   ]
  },
  {
   "cell_type": "code",
   "execution_count": 69,
   "metadata": {},
   "outputs": [
    {
     "name": "stdout",
     "output_type": "stream",
     "text": [
      "The X-ray source was set to a tube voltage of 70.0 kV and a tube current of 142.0 µA, the x-ray spectrum was filtered by Al 0.5mm prior to incidence onto the sample.\n"
     ]
    }
   ],
   "source": [
    "print('The X-ray source was set to a tube voltage of', \n",
    "      \" OR \".join(str(value) for value in Data.Voltage.unique()),\n",
    "      'kV and a tube current of',\n",
    "      \" OR \".join(str(value) for value in Data.Current.unique()),\n",
    "      'µA, the x-ray spectrum was', end=' ')\n",
    "if Data.Filter.unique():\n",
    "    print('filtered by', \" OR \".join(str(value) for value in Data.Filter.unique()), end=' ')\n",
    "else:\n",
    "    print('not filtered', end=' ')\n",
    "print('prior to incidence onto the sample.')"
   ]
  },
  {
   "cell_type": "code",
   "execution_count": 70,
   "metadata": {},
   "outputs": [
    {
     "data": {
      "text/plain": [
       "array([False])"
      ]
     },
     "execution_count": 70,
     "metadata": {},
     "output_type": "execute_result"
    }
   ],
   "source": [
    "Data.ThreeSixty.unique()"
   ]
  },
  {
   "cell_type": "code",
   "execution_count": 71,
   "metadata": {},
   "outputs": [
    {
     "name": "stdout",
     "output_type": "stream",
     "text": [
      "For each sample, we recorded a set of 5 stacked scans overlapping the sample height, each stack was recorded with 482 projections of 1632 x 1092 pixels at every 0.4° over a 180° sample rotation.\n"
     ]
    }
   ],
   "source": [
    "print('For each sample, we recorded a set of', end=' ')\n",
    "if Data.Filter.unique().tolist():   \n",
    "    print(\" or \".join(str(value) for value in Data.Stacks.unique()),\n",
    "          'stacked scans overlapping the sample height, each stack was recorded with', end=' ')\n",
    "print(\" or \".join(str(value) for value in Data.NumProj.unique()), 'projections of', end=' ')\n",
    "for cs in Data.CamSize.unique():\n",
    "    print(cs[0], end=' ')\n",
    "print('x', end=' ')\n",
    "for cs in Data.CamSize.unique():\n",
    "    print(cs[1], end=' ')\n",
    "print('pixels', end=' ')\n",
    "if Data.Wide.unique():\n",
    "    print('(' + \" or \".join(str(value) for value in Data.Wide.unique()), 'projections stitched laterally)', end=' ')\n",
    "print('at every',\n",
    "       str(\" or \".join(str(value) for value in Data.RotationStep.unique())) + '° over a ', end='')\n",
    "if Data.ThreeSixty.unique():\n",
    "     print('360°', end=' ')\n",
    "else:\n",
    "    print('180°', end=' ')\n",
    "print('sample rotation.')"
   ]
  },
  {
   "cell_type": "code",
   "execution_count": 72,
   "metadata": {},
   "outputs": [
    {
     "name": "stdout",
     "output_type": "stream",
     "text": [
      "Every single projection was exposed for 862 ms, 3 projections were averaged to greatly reduce image noise.\n"
     ]
    }
   ],
   "source": [
    "print('Every single projection was exposed for',\n",
    "      \" or \".join(str(value) for value in Data.Exposure.unique()),\n",
    "      'ms,',\n",
    "      \" or \".join(str(value) for value in Data.Averaging.unique()),\n",
    "      'projections were averaged to greatly reduce image noise.')"
   ]
  },
  {
   "cell_type": "code",
   "execution_count": 73,
   "metadata": {},
   "outputs": [
    {
     "name": "stdout",
     "output_type": "stream",
     "text": [
      "This resulted in a scan time of approximately 36 minutes per stack and about 3 hours and 4 minutes per sample (with 5 stacks each).\n"
     ]
    }
   ],
   "source": [
    "print('This resulted in a scan time of approximately ', end='')\n",
    "if duration(log)/3600 > 1:\n",
    "    # Scan took hours\n",
    "    print(timeformat(datetime.timedelta(seconds=duration(log)),\n",
    "                     '{hours} hours and {minutes} minutes'), end=' ')\n",
    "else:\n",
    "    print(timeformat(datetime.timedelta(seconds=duration(log)),\n",
    "                     '{minutes} minutes'), end=' ')\n",
    "if not stacks(log) == 1:\n",
    "    print('per stack and about',\n",
    "          timeformat(stacks(log) * datetime.timedelta(seconds=duration(log)),\n",
    "                     '{hours} hours and {minutes} minutes'), end=' ')\n",
    "print('per sample', end='')\n",
    "if stacks(log) == 1:\n",
    "    print('.')\n",
    "else:\n",
    "    print(' (with', stacks(log), 'stacks each).')"
   ]
  },
  {
   "cell_type": "code",
   "execution_count": 74,
   "metadata": {},
   "outputs": [
    {
     "name": "stdout",
     "output_type": "stream",
     "text": [
      "In total, we scanned 50 stacks.\n",
      "Each stack took approximately 36.0 minutes (0:36:48.300000)\n",
      "In total, we thus scanned for about 1 days, 6 hours and 40 minutes.\n",
      "At the MIC rate of 125 CHF/h, this would have cost 3834 CHF\n"
     ]
    }
   ],
   "source": [
    "print('In total, we scanned', Data.Stacks.sum(), 'stacks.')\n",
    "print('Each stack took approximately',\n",
    "      Data.Duration.mean() // 60,\n",
    "      'minutes (' + str(datetime.timedelta(seconds=Data.Duration.mean())) + ')')\n",
    "print('In total, we thus scanned for about', \n",
    "      timeformat(Data.Stacks.sum() *\n",
    "                 datetime.timedelta(seconds=Data.Duration.mean()),\n",
    "                 '{days} days, {hours} hours and {minutes} minutes.'))\n",
    "hourlyrate = 125\n",
    "print('At the MIC rate of %s CHF/h, this would have cost %s CHF' % (\n",
    "    hourlyrate,\n",
    "    int(round(Data.Stacks.sum() * Data.Duration.mean() / 60 / 60 * hourlyrate))))"
   ]
  },
  {
   "cell_type": "code",
   "execution_count": 75,
   "metadata": {},
   "outputs": [
    {
     "name": "stdout",
     "output_type": "stream",
     "text": [
      "The projection images were then subsequently reconstructed into a 3D stack of images with NRecon (Version 2.0.0.5, Bruker microCT, Kontich Belgium) using a ring artifact correction of 7.\n"
     ]
    }
   ],
   "source": [
    "print('The projection images were then subsequently reconstructed into a 3D stack',\n",
    "      'of images with',\n",
    "      Data.Version.unique()[0][0],\n",
    "      '(Version',\n",
    "      version(log)[1] + ', Bruker microCT, Kontich Belgium)', end=' ')\n",
    "if ringremoval(log):\n",
    "    print('using a ring artifact correction of',\n",
    "          ringremoval(log), end='')\n",
    "if beamhardening(log):\n",
    "    print(' and a beam hardening correction of',\n",
    "          beamhardening(log),\n",
    "          '%.')\n",
    "else:\n",
    "    print('.')"
   ]
  },
  {
   "cell_type": "code",
   "execution_count": 76,
   "metadata": {},
   "outputs": [
    {
     "name": "stdout",
     "output_type": "stream",
     "text": [
      "The whole process resulted in datasets with an isometric voxel size of 8.0 µm.\n"
     ]
    }
   ],
   "source": [
    "print('The whole process resulted in datasets with an isometric voxel size of',\n",
    "      \" or \".join(str(value) for value in Data.Voxelsize_rounded.unique()),\n",
    "      'µm.') "
   ]
  }
 ],
 "metadata": {
  "kernelspec": {
   "display_name": "Python 3 (ipykernel)",
   "language": "python",
   "name": "python3"
  },
  "language_info": {
   "codemirror_mode": {
    "name": "ipython",
    "version": 3
   },
   "file_extension": ".py",
   "mimetype": "text/x-python",
   "name": "python",
   "nbconvert_exporter": "python",
   "pygments_lexer": "ipython3",
   "version": "3.8.13"
  }
 },
 "nbformat": 4,
 "nbformat_minor": 4
}
